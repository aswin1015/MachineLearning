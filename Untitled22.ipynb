{
 "cells": [
  {
   "cell_type": "code",
   "execution_count": 9,
   "id": "d51afaa9",
   "metadata": {},
   "outputs": [],
   "source": [
    "import pandas as pd\n",
    "data=pd.read_csv(r\"C:\\Users\\Admin\\Iris.csv\")"
   ]
  },
  {
   "cell_type": "code",
   "execution_count": 10,
   "id": "e6a44cd8",
   "metadata": {},
   "outputs": [
    {
     "data": {
      "text/html": [
       "<div>\n",
       "<style scoped>\n",
       "    .dataframe tbody tr th:only-of-type {\n",
       "        vertical-align: middle;\n",
       "    }\n",
       "\n",
       "    .dataframe tbody tr th {\n",
       "        vertical-align: top;\n",
       "    }\n",
       "\n",
       "    .dataframe thead th {\n",
       "        text-align: right;\n",
       "    }\n",
       "</style>\n",
       "<table border=\"1\" class=\"dataframe\">\n",
       "  <thead>\n",
       "    <tr style=\"text-align: right;\">\n",
       "      <th></th>\n",
       "      <th>Id</th>\n",
       "      <th>SepalLengthCm</th>\n",
       "      <th>SepalWidthCm</th>\n",
       "      <th>PetalLengthCm</th>\n",
       "      <th>PetalWidthCm</th>\n",
       "      <th>Species</th>\n",
       "    </tr>\n",
       "  </thead>\n",
       "  <tbody>\n",
       "    <tr>\n",
       "      <th>0</th>\n",
       "      <td>1</td>\n",
       "      <td>5.1</td>\n",
       "      <td>3.5</td>\n",
       "      <td>1.4</td>\n",
       "      <td>0.2</td>\n",
       "      <td>Iris-setosa</td>\n",
       "    </tr>\n",
       "    <tr>\n",
       "      <th>1</th>\n",
       "      <td>2</td>\n",
       "      <td>4.9</td>\n",
       "      <td>3.0</td>\n",
       "      <td>1.4</td>\n",
       "      <td>0.2</td>\n",
       "      <td>Iris-setosa</td>\n",
       "    </tr>\n",
       "    <tr>\n",
       "      <th>2</th>\n",
       "      <td>3</td>\n",
       "      <td>4.7</td>\n",
       "      <td>3.2</td>\n",
       "      <td>1.3</td>\n",
       "      <td>0.2</td>\n",
       "      <td>Iris-setosa</td>\n",
       "    </tr>\n",
       "    <tr>\n",
       "      <th>3</th>\n",
       "      <td>4</td>\n",
       "      <td>4.6</td>\n",
       "      <td>3.1</td>\n",
       "      <td>1.5</td>\n",
       "      <td>0.2</td>\n",
       "      <td>Iris-setosa</td>\n",
       "    </tr>\n",
       "    <tr>\n",
       "      <th>4</th>\n",
       "      <td>5</td>\n",
       "      <td>5.0</td>\n",
       "      <td>3.6</td>\n",
       "      <td>1.4</td>\n",
       "      <td>0.2</td>\n",
       "      <td>Iris-setosa</td>\n",
       "    </tr>\n",
       "  </tbody>\n",
       "</table>\n",
       "</div>"
      ],
      "text/plain": [
       "   Id  SepalLengthCm  SepalWidthCm  PetalLengthCm  PetalWidthCm      Species\n",
       "0   1            5.1           3.5            1.4           0.2  Iris-setosa\n",
       "1   2            4.9           3.0            1.4           0.2  Iris-setosa\n",
       "2   3            4.7           3.2            1.3           0.2  Iris-setosa\n",
       "3   4            4.6           3.1            1.5           0.2  Iris-setosa\n",
       "4   5            5.0           3.6            1.4           0.2  Iris-setosa"
      ]
     },
     "execution_count": 10,
     "metadata": {},
     "output_type": "execute_result"
    }
   ],
   "source": [
    "data.head()"
   ]
  },
  {
   "cell_type": "code",
   "execution_count": 13,
   "id": "b755d71e",
   "metadata": {},
   "outputs": [
    {
     "name": "stdout",
     "output_type": "stream",
     "text": [
      "   SepalLengthCm  SepalWidthCm  PetalLengthCm  PetalWidthCm\n",
      "0            5.1           3.5            1.4           0.2\n",
      "1            4.9           3.0            1.4           0.2\n",
      "2            4.7           3.2            1.3           0.2\n",
      "3            4.6           3.1            1.5           0.2\n",
      "4            5.0           3.6            1.4           0.2\n",
      "5            5.4           3.9            1.7           0.4\n",
      "6            4.6           3.4            1.4           0.3\n",
      "7            5.0           3.4            1.5           0.2\n",
      "8            4.4           2.9            1.4           0.2\n",
      "9            4.9           3.1            1.5           0.1\n"
     ]
    }
   ],
   "source": [
    "x= data.iloc[:,1:-1]\n",
    "y=data.iloc[:,-1]\n",
    "print(x[:10])"
   ]
  },
  {
   "cell_type": "code",
   "execution_count": 31,
   "id": "7d947f99",
   "metadata": {},
   "outputs": [
    {
     "data": {
      "text/html": [
       "<div>\n",
       "<style scoped>\n",
       "    .dataframe tbody tr th:only-of-type {\n",
       "        vertical-align: middle;\n",
       "    }\n",
       "\n",
       "    .dataframe tbody tr th {\n",
       "        vertical-align: top;\n",
       "    }\n",
       "\n",
       "    .dataframe thead th {\n",
       "        text-align: right;\n",
       "    }\n",
       "</style>\n",
       "<table border=\"1\" class=\"dataframe\">\n",
       "  <thead>\n",
       "    <tr style=\"text-align: right;\">\n",
       "      <th></th>\n",
       "      <th>SepalLengthCm</th>\n",
       "      <th>SepalWidthCm</th>\n",
       "      <th>PetalLengthCm</th>\n",
       "      <th>PetalWidthCm</th>\n",
       "    </tr>\n",
       "  </thead>\n",
       "  <tbody>\n",
       "    <tr>\n",
       "      <th>143</th>\n",
       "      <td>6.8</td>\n",
       "      <td>3.2</td>\n",
       "      <td>5.9</td>\n",
       "      <td>2.3</td>\n",
       "    </tr>\n",
       "    <tr>\n",
       "      <th>23</th>\n",
       "      <td>5.1</td>\n",
       "      <td>3.3</td>\n",
       "      <td>1.7</td>\n",
       "      <td>0.5</td>\n",
       "    </tr>\n",
       "    <tr>\n",
       "      <th>6</th>\n",
       "      <td>4.6</td>\n",
       "      <td>3.4</td>\n",
       "      <td>1.4</td>\n",
       "      <td>0.3</td>\n",
       "    </tr>\n",
       "    <tr>\n",
       "      <th>65</th>\n",
       "      <td>6.7</td>\n",
       "      <td>3.1</td>\n",
       "      <td>4.4</td>\n",
       "      <td>1.4</td>\n",
       "    </tr>\n",
       "    <tr>\n",
       "      <th>97</th>\n",
       "      <td>6.2</td>\n",
       "      <td>2.9</td>\n",
       "      <td>4.3</td>\n",
       "      <td>1.3</td>\n",
       "    </tr>\n",
       "    <tr>\n",
       "      <th>...</th>\n",
       "      <td>...</td>\n",
       "      <td>...</td>\n",
       "      <td>...</td>\n",
       "      <td>...</td>\n",
       "    </tr>\n",
       "    <tr>\n",
       "      <th>147</th>\n",
       "      <td>6.5</td>\n",
       "      <td>3.0</td>\n",
       "      <td>5.2</td>\n",
       "      <td>2.0</td>\n",
       "    </tr>\n",
       "    <tr>\n",
       "      <th>2</th>\n",
       "      <td>4.7</td>\n",
       "      <td>3.2</td>\n",
       "      <td>1.3</td>\n",
       "      <td>0.2</td>\n",
       "    </tr>\n",
       "    <tr>\n",
       "      <th>135</th>\n",
       "      <td>7.7</td>\n",
       "      <td>3.0</td>\n",
       "      <td>6.1</td>\n",
       "      <td>2.3</td>\n",
       "    </tr>\n",
       "    <tr>\n",
       "      <th>71</th>\n",
       "      <td>6.1</td>\n",
       "      <td>2.8</td>\n",
       "      <td>4.0</td>\n",
       "      <td>1.3</td>\n",
       "    </tr>\n",
       "    <tr>\n",
       "      <th>1</th>\n",
       "      <td>4.9</td>\n",
       "      <td>3.0</td>\n",
       "      <td>1.4</td>\n",
       "      <td>0.2</td>\n",
       "    </tr>\n",
       "  </tbody>\n",
       "</table>\n",
       "<p>112 rows × 4 columns</p>\n",
       "</div>"
      ],
      "text/plain": [
       "     SepalLengthCm  SepalWidthCm  PetalLengthCm  PetalWidthCm\n",
       "143            6.8           3.2            5.9           2.3\n",
       "23             5.1           3.3            1.7           0.5\n",
       "6              4.6           3.4            1.4           0.3\n",
       "65             6.7           3.1            4.4           1.4\n",
       "97             6.2           2.9            4.3           1.3\n",
       "..             ...           ...            ...           ...\n",
       "147            6.5           3.0            5.2           2.0\n",
       "2              4.7           3.2            1.3           0.2\n",
       "135            7.7           3.0            6.1           2.3\n",
       "71             6.1           2.8            4.0           1.3\n",
       "1              4.9           3.0            1.4           0.2\n",
       "\n",
       "[112 rows x 4 columns]"
      ]
     },
     "execution_count": 31,
     "metadata": {},
     "output_type": "execute_result"
    }
   ],
   "source": [
    "from sklearn.model_selection import train_test_split\n",
    "X_train,X_test,y_train,y_test=train_test_split(x,y,test_size=0.25)\n",
    "X_train"
   ]
  },
  {
   "cell_type": "code",
   "execution_count": 32,
   "id": "9e8d8989",
   "metadata": {},
   "outputs": [],
   "source": [
    "from sklearn.preprocessing import StandardScaler\n",
    "scaler=StandardScaler()"
   ]
  },
  {
   "cell_type": "code",
   "execution_count": 33,
   "id": "deafb6b1",
   "metadata": {},
   "outputs": [],
   "source": [
    "x_train=scaler.fit_transform(X_train)"
   ]
  },
  {
   "cell_type": "code",
   "execution_count": 34,
   "id": "ea6cbc7e",
   "metadata": {},
   "outputs": [],
   "source": [
    "x_test=scaler.fit_transform(X_test)"
   ]
  },
  {
   "cell_type": "code",
   "execution_count": 35,
   "id": "0c875fc9",
   "metadata": {},
   "outputs": [
    {
     "name": "stdout",
     "output_type": "stream",
     "text": [
      "[[ 1.16957763  0.41463561  1.2583424   1.50247212]\n",
      " [-0.84387247  0.66979598 -1.16956681 -0.90722064]\n",
      " [-1.43606367  0.92495635 -1.34298889 -1.17496428]\n",
      " [ 1.05113939  0.15947523  0.39123197  0.29762574]\n",
      " [ 0.45894818 -0.35084551  0.33342461  0.16375392]\n",
      " [-1.19918719 -0.09568514 -1.34298889 -1.17496428]\n",
      " [ 0.69582466 -0.60600589  1.08492031  1.23472848]\n",
      " [-1.67294015  0.41463561 -1.40079626 -1.3088361 ]\n",
      " [-1.19918719 -0.09568514 -1.34298889 -1.44270792]\n",
      " [ 1.05113939  0.66979598  1.14272768  1.23472848]\n",
      " [-1.08074895 -1.62664738 -0.24464901 -0.23786154]\n",
      " [ 0.2220717  -0.86116626  0.7958835   0.56536938]\n",
      " [ 1.16957763 -0.09568514  1.02711295  1.23472848]\n",
      " [ 2.23552179 -0.60600589  1.7208013   1.10085666]\n",
      " [-0.13324302 -0.09568514  0.27561724  0.0298821 ]\n",
      " [-0.13324302 -1.11632663 -0.12903429 -0.23786154]\n",
      " [ 0.81426291 -0.60600589  0.50684669  0.43149756]\n",
      " [-1.08074895 -1.371487    0.44903933  0.6992412 ]\n",
      " [ 1.05113939 -0.09568514  0.85369087  1.50247212]\n",
      " [-0.84387247  0.92495635 -1.28518153 -1.3088361 ]\n",
      " [-0.3701195   1.18011672 -1.40079626 -1.3088361 ]\n",
      " [-0.84387247 -1.371487   -0.4180711  -0.10398972]\n",
      " [ 0.34050994 -0.35084551  0.56465405  0.29762574]\n",
      " [ 1.28801587  0.15947523  0.96930559  1.23472848]\n",
      " [-0.3701195  -1.62664738 -0.01341957 -0.23786154]\n",
      " [ 0.34050994 -0.09568514  0.68026878  0.83311302]\n",
      " [-0.01480478 -0.86116626  0.21780988 -0.23786154]\n",
      " [ 1.28801587  0.41463561  1.14272768  1.50247212]\n",
      " [ 0.2220717  -0.35084551  0.44903933  0.43149756]\n",
      " [ 0.10363346 -0.09568514  0.27561724  0.43149756]\n",
      " [-0.3701195   2.96623933 -1.34298889 -1.3088361 ]\n",
      " [ 1.05113939  0.66979598  1.14272768  1.77021576]\n",
      " [ 0.57738642 -1.371487    0.68026878  0.43149756]\n",
      " [ 2.23552179 -1.11632663  1.83641602  1.50247212]\n",
      " [-1.19918719  0.92495635 -1.05395208 -1.3088361 ]\n",
      " [-0.01480478 -0.86116626  0.10219516  0.0298821 ]\n",
      " [ 0.45894818 -0.60600589  0.62246142  0.83311302]\n",
      " [ 1.16957763 -0.60600589  0.62246142  0.29762574]\n",
      " [-1.08074895  0.15947523 -1.28518153 -1.44270792]\n",
      " [-1.43606367  0.15947523 -1.28518153 -1.3088361 ]\n",
      " [-0.84387247  1.94559784 -1.28518153 -1.17496428]\n",
      " [-0.96231071  0.66979598 -1.34298889 -1.3088361 ]\n",
      " [ 2.47239828  1.94559784  1.54737921  1.10085666]\n",
      " [ 0.93270115 -0.35084551  0.50684669  0.16375392]\n",
      " [ 1.05113939 -1.371487    1.20053504  0.83311302]\n",
      " [-0.84387247  1.94559784 -1.22737417 -1.3088361 ]\n",
      " [-1.19918719  0.15947523 -1.22737417 -1.3088361 ]\n",
      " [-0.25168126 -0.09568514  0.21780988  0.16375392]\n",
      " [ 2.11708355 -0.09568514  1.66299393  1.23472848]\n",
      " [-0.25168126 -0.09568514  0.44903933  0.43149756]\n",
      " [-0.25168126 -1.371487    0.10219516 -0.10398972]\n",
      " [ 0.2220717   0.92495635  0.44903933  0.56536938]\n",
      " [ 0.81426291  0.41463561  0.7958835   1.10085666]\n",
      " [-0.96231071 -2.64728887 -0.12903429 -0.23786154]\n",
      " [-0.60699598  1.69043747 -1.28518153 -1.3088361 ]\n",
      " [-1.43606367  0.41463561 -1.34298889 -1.3088361 ]\n",
      " [-0.96231071  0.92495635 -1.22737417 -1.04109246]\n",
      " [-1.08074895  0.15947523 -1.28518153 -1.44270792]\n",
      " [ 0.57738642 -0.86116626  0.68026878  0.83311302]\n",
      " [-0.96231071 -0.09568514 -1.22737417 -1.3088361 ]\n",
      " [ 0.57738642 -0.35084551  1.08492031  0.83311302]\n",
      " [-0.01480478 -0.86116626  0.7958835   0.96698484]\n",
      " [ 0.57738642  0.66979598  0.56465405  0.56536938]\n",
      " [ 1.05113939  0.15947523  0.56465405  0.43149756]\n",
      " [-1.79137839 -0.09568514 -1.51641098 -1.44270792]\n",
      " [-0.13324302 -0.60600589  0.44903933  0.16375392]\n",
      " [ 0.57738642  0.66979598  1.31614976  1.77021576]\n",
      " [ 1.05113939 -0.09568514  0.73807614  0.6992412 ]\n",
      " [ 0.93270115 -0.09568514  0.39123197  0.29762574]\n",
      " [ 1.40645411  0.41463561  0.56465405  0.29762574]\n",
      " [ 0.2220717  -0.09568514  0.62246142  0.83311302]\n",
      " [ 0.69582466  0.41463561  0.44903933  0.43149756]\n",
      " [ 0.69582466  0.15947523  1.02711295  0.83311302]\n",
      " [ 1.64333059  1.4352771   1.37395712  1.77021576]\n",
      " [-0.96231071  0.41463561 -1.45860362 -1.3088361 ]\n",
      " [ 0.34050994 -0.09568514  0.50684669  0.29762574]\n",
      " [-0.72543422  1.18011672 -1.28518153 -1.3088361 ]\n",
      " [-1.67294015 -0.35084551 -1.34298889 -1.3088361 ]\n",
      " [-0.84387247  1.69043747 -1.28518153 -1.04109246]\n",
      " [-0.25168126 -0.86116626  0.27561724  0.16375392]\n",
      " [-0.96231071  0.92495635 -1.28518153 -1.3088361 ]\n",
      " [ 0.69582466 -0.86116626  0.91149823  0.96698484]\n",
      " [ 1.52489235 -0.09568514  1.2583424   1.23472848]\n",
      " [-0.3701195  -1.88180775  0.16000252  0.16375392]\n",
      " [ 1.64333059 -0.09568514  1.20053504  0.56536938]\n",
      " [-0.25168126 -0.35084551 -0.07122693  0.16375392]\n",
      " [-0.01480478 -1.11632663  0.16000252  0.0298821 ]\n",
      " [-0.96231071  1.18011672 -1.40079626 -1.17496428]\n",
      " [-0.72543422  2.71107896 -1.28518153 -1.44270792]\n",
      " [-0.3701195  -1.62664738  0.0443878  -0.10398972]\n",
      " [-0.48855774  0.92495635 -1.16956681 -1.3088361 ]\n",
      " [-0.84387247  1.18011672 -1.34298889 -1.17496428]\n",
      " [-0.01480478 -0.86116626  0.7958835   0.96698484]\n",
      " [-0.96231071  1.18011672 -1.22737417 -0.77334882]\n",
      " [-0.13324302 -1.371487    0.73807614  1.10085666]\n",
      " [-0.13324302 -0.35084551  0.27561724  0.16375392]\n",
      " [-1.55450191 -1.88180775 -1.40079626 -1.17496428]\n",
      " [-0.48855774 -0.09568514  0.44903933  0.43149756]\n",
      " [-0.13324302  1.94559784 -1.16956681 -1.17496428]\n",
      " [-0.13324302 -0.60600589  0.21780988  0.16375392]\n",
      " [ 1.88020707 -0.60600589  1.37395712  0.96698484]\n",
      " [-0.3701195  -1.11632663  0.39123197  0.0298821 ]\n",
      " [-0.84387247  1.18011672 -1.34298889 -1.3088361 ]\n",
      " [-0.96231071 -1.88180775 -0.24464901 -0.23786154]\n",
      " [-1.19918719  0.92495635 -1.22737417 -1.3088361 ]\n",
      " [ 0.45894818  0.92495635  0.96930559  1.50247212]\n",
      " [ 0.10363346  0.41463561  0.62246142  0.83311302]\n",
      " [ 0.81426291 -0.09568514  0.85369087  1.10085666]\n",
      " [-1.31762543  0.41463561 -1.40079626 -1.3088361 ]\n",
      " [ 2.23552179 -0.09568514  1.37395712  1.50247212]\n",
      " [ 0.34050994 -0.60600589  0.16000252  0.16375392]\n",
      " [-1.08074895 -0.09568514 -1.34298889 -1.3088361 ]]\n"
     ]
    }
   ],
   "source": [
    "print(x_train)"
   ]
  },
  {
   "cell_type": "code",
   "execution_count": 36,
   "id": "c3cab1b1",
   "metadata": {},
   "outputs": [],
   "source": [
    "from sklearn.linear_model import LogisticRegression\n",
    "lr=LogisticRegression()"
   ]
  },
  {
   "cell_type": "code",
   "execution_count": 37,
   "id": "29b47869",
   "metadata": {},
   "outputs": [
    {
     "data": {
      "text/html": [
       "<style>#sk-container-id-2 {color: black;background-color: white;}#sk-container-id-2 pre{padding: 0;}#sk-container-id-2 div.sk-toggleable {background-color: white;}#sk-container-id-2 label.sk-toggleable__label {cursor: pointer;display: block;width: 100%;margin-bottom: 0;padding: 0.3em;box-sizing: border-box;text-align: center;}#sk-container-id-2 label.sk-toggleable__label-arrow:before {content: \"▸\";float: left;margin-right: 0.25em;color: #696969;}#sk-container-id-2 label.sk-toggleable__label-arrow:hover:before {color: black;}#sk-container-id-2 div.sk-estimator:hover label.sk-toggleable__label-arrow:before {color: black;}#sk-container-id-2 div.sk-toggleable__content {max-height: 0;max-width: 0;overflow: hidden;text-align: left;background-color: #f0f8ff;}#sk-container-id-2 div.sk-toggleable__content pre {margin: 0.2em;color: black;border-radius: 0.25em;background-color: #f0f8ff;}#sk-container-id-2 input.sk-toggleable__control:checked~div.sk-toggleable__content {max-height: 200px;max-width: 100%;overflow: auto;}#sk-container-id-2 input.sk-toggleable__control:checked~label.sk-toggleable__label-arrow:before {content: \"▾\";}#sk-container-id-2 div.sk-estimator input.sk-toggleable__control:checked~label.sk-toggleable__label {background-color: #d4ebff;}#sk-container-id-2 div.sk-label input.sk-toggleable__control:checked~label.sk-toggleable__label {background-color: #d4ebff;}#sk-container-id-2 input.sk-hidden--visually {border: 0;clip: rect(1px 1px 1px 1px);clip: rect(1px, 1px, 1px, 1px);height: 1px;margin: -1px;overflow: hidden;padding: 0;position: absolute;width: 1px;}#sk-container-id-2 div.sk-estimator {font-family: monospace;background-color: #f0f8ff;border: 1px dotted black;border-radius: 0.25em;box-sizing: border-box;margin-bottom: 0.5em;}#sk-container-id-2 div.sk-estimator:hover {background-color: #d4ebff;}#sk-container-id-2 div.sk-parallel-item::after {content: \"\";width: 100%;border-bottom: 1px solid gray;flex-grow: 1;}#sk-container-id-2 div.sk-label:hover label.sk-toggleable__label {background-color: #d4ebff;}#sk-container-id-2 div.sk-serial::before {content: \"\";position: absolute;border-left: 1px solid gray;box-sizing: border-box;top: 0;bottom: 0;left: 50%;z-index: 0;}#sk-container-id-2 div.sk-serial {display: flex;flex-direction: column;align-items: center;background-color: white;padding-right: 0.2em;padding-left: 0.2em;position: relative;}#sk-container-id-2 div.sk-item {position: relative;z-index: 1;}#sk-container-id-2 div.sk-parallel {display: flex;align-items: stretch;justify-content: center;background-color: white;position: relative;}#sk-container-id-2 div.sk-item::before, #sk-container-id-2 div.sk-parallel-item::before {content: \"\";position: absolute;border-left: 1px solid gray;box-sizing: border-box;top: 0;bottom: 0;left: 50%;z-index: -1;}#sk-container-id-2 div.sk-parallel-item {display: flex;flex-direction: column;z-index: 1;position: relative;background-color: white;}#sk-container-id-2 div.sk-parallel-item:first-child::after {align-self: flex-end;width: 50%;}#sk-container-id-2 div.sk-parallel-item:last-child::after {align-self: flex-start;width: 50%;}#sk-container-id-2 div.sk-parallel-item:only-child::after {width: 0;}#sk-container-id-2 div.sk-dashed-wrapped {border: 1px dashed gray;margin: 0 0.4em 0.5em 0.4em;box-sizing: border-box;padding-bottom: 0.4em;background-color: white;}#sk-container-id-2 div.sk-label label {font-family: monospace;font-weight: bold;display: inline-block;line-height: 1.2em;}#sk-container-id-2 div.sk-label-container {text-align: center;}#sk-container-id-2 div.sk-container {/* jupyter's `normalize.less` sets `[hidden] { display: none; }` but bootstrap.min.css set `[hidden] { display: none !important; }` so we also need the `!important` here to be able to override the default hidden behavior on the sphinx rendered scikit-learn.org. See: https://github.com/scikit-learn/scikit-learn/issues/21755 */display: inline-block !important;position: relative;}#sk-container-id-2 div.sk-text-repr-fallback {display: none;}</style><div id=\"sk-container-id-2\" class=\"sk-top-container\"><div class=\"sk-text-repr-fallback\"><pre>LogisticRegression()</pre><b>In a Jupyter environment, please rerun this cell to show the HTML representation or trust the notebook. <br />On GitHub, the HTML representation is unable to render, please try loading this page with nbviewer.org.</b></div><div class=\"sk-container\" hidden><div class=\"sk-item\"><div class=\"sk-estimator sk-toggleable\"><input class=\"sk-toggleable__control sk-hidden--visually\" id=\"sk-estimator-id-2\" type=\"checkbox\" checked><label for=\"sk-estimator-id-2\" class=\"sk-toggleable__label sk-toggleable__label-arrow\">LogisticRegression</label><div class=\"sk-toggleable__content\"><pre>LogisticRegression()</pre></div></div></div></div></div>"
      ],
      "text/plain": [
       "LogisticRegression()"
      ]
     },
     "execution_count": 37,
     "metadata": {},
     "output_type": "execute_result"
    }
   ],
   "source": [
    "lr.fit(x_train,y_train)"
   ]
  },
  {
   "cell_type": "raw",
   "id": "81177e9c",
   "metadata": {},
   "source": []
  },
  {
   "cell_type": "code",
   "execution_count": 38,
   "id": "c101acc3",
   "metadata": {},
   "outputs": [
    {
     "name": "stdout",
     "output_type": "stream",
     "text": [
      "[[13  0  0]\n",
      " [ 0  8  4]\n",
      " [ 0  0 13]]\n"
     ]
    },
    {
     "data": {
      "text/plain": [
       "0.8947368421052632"
      ]
     },
     "execution_count": 38,
     "metadata": {},
     "output_type": "execute_result"
    }
   ],
   "source": [
    "from sklearn.metrics import confusion_matrix, accuracy_score\n",
    "predictions =lr.predict(x_test)\n",
    "cm = confusion_matrix(predictions, y_test)\n",
    "print(cm)\n",
    "lr.score(x_test, y_test)"
   ]
  },
  {
   "cell_type": "code",
   "execution_count": null,
   "id": "ce70513e",
   "metadata": {},
   "outputs": [],
   "source": []
  }
 ],
 "metadata": {
  "kernelspec": {
   "display_name": "Python 3 (ipykernel)",
   "language": "python",
   "name": "python3"
  },
  "language_info": {
   "codemirror_mode": {
    "name": "ipython",
    "version": 3
   },
   "file_extension": ".py",
   "mimetype": "text/x-python",
   "name": "python",
   "nbconvert_exporter": "python",
   "pygments_lexer": "ipython3",
   "version": "3.10.9"
  }
 },
 "nbformat": 4,
 "nbformat_minor": 5
}
