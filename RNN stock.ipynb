{
 "cells": [
  {
   "cell_type": "code",
   "execution_count": 4,
   "id": "645eebf5",
   "metadata": {},
   "outputs": [],
   "source": [
    "import numpy as np\n",
    "import matplotlib.pyplot as plt\n",
    "import pandas as pd "
   ]
  },
  {
   "cell_type": "code",
   "execution_count": 8,
   "id": "c183ef4e",
   "metadata": {},
   "outputs": [],
   "source": [
    "data=pd.read_csv(r\"C:\\Users\\Admin\\Google_Stock_Price_Train.xls\")\n",
    "trainset=data.iloc[:,1:2].values"
   ]
  },
  {
   "cell_type": "code",
   "execution_count": 10,
   "id": "a87be6c4",
   "metadata": {},
   "outputs": [],
   "source": [
    "from sklearn.preprocessing import MinMaxScaler\n",
    "sc=MinMaxScaler(feature_range =(0,1))\n",
    "trainset_scaled=sc.fit_transform(trainset)"
   ]
  },
  {
   "cell_type": "code",
   "execution_count": 16,
   "id": "8a578e04",
   "metadata": {},
   "outputs": [
    {
     "name": "stderr",
     "output_type": "stream",
     "text": [
      "C:\\Users\\Admin\\AppData\\Local\\Temp\\ipykernel_35232\\2276761740.py:8: VisibleDeprecationWarning: Creating an ndarray from ragged nested sequences (which is a list-or-tuple of lists-or-tuples-or ndarrays with different lengths or shapes) is deprecated. If you meant to do this, you must specify 'dtype=object' when creating the ndarray.\n",
      "  X_train,y_train=np.array(X_train),np.array(y_train)\n"
     ]
    },
    {
     "ename": "IndexError",
     "evalue": "tuple index out of range",
     "output_type": "error",
     "traceback": [
      "\u001b[1;31m---------------------------------------------------------------------------\u001b[0m",
      "\u001b[1;31mIndexError\u001b[0m                                Traceback (most recent call last)",
      "Cell \u001b[1;32mIn[16], line 10\u001b[0m\n\u001b[0;32m      5\u001b[0m     y_train\u001b[38;5;241m.\u001b[39mappend(trainset_scaled[i,\u001b[38;5;241m0\u001b[39m])\n\u001b[0;32m      8\u001b[0m X_train,y_train\u001b[38;5;241m=\u001b[39mnp\u001b[38;5;241m.\u001b[39marray(X_train),np\u001b[38;5;241m.\u001b[39marray(y_train)\n\u001b[1;32m---> 10\u001b[0m X_train\u001b[38;5;241m=\u001b[39mnp\u001b[38;5;241m.\u001b[39mreshape(X_train,(X_train\u001b[38;5;241m.\u001b[39mshape[\u001b[38;5;241m0\u001b[39m],\u001b[43mX_train\u001b[49m\u001b[38;5;241;43m.\u001b[39;49m\u001b[43mshape\u001b[49m\u001b[43m[\u001b[49m\u001b[38;5;241;43m1\u001b[39;49m\u001b[43m]\u001b[49m,\u001b[38;5;241m1\u001b[39m))\n",
      "\u001b[1;31mIndexError\u001b[0m: tuple index out of range"
     ]
    }
   ],
   "source": [
    "X_train=[]\n",
    "y_train=[]\n",
    "for i in range(0,1250):\n",
    "    X_train.append(trainset_scaled[i-60:i,0])\n",
    "    y_train.append(trainset_scaled[i,0])\n",
    "    \n",
    "    \n",
    "X_train,y_train=np.array(X_train),np.array(y_train)\n",
    "\n",
    "X_train=np.reshape(X_train,(X_train.shape[0],X_train.shape[1],1))"
   ]
  },
  {
   "cell_type": "code",
   "execution_count": 17,
   "id": "5037f7cc",
   "metadata": {},
   "outputs": [
    {
     "data": {
      "text/plain": [
       "array([array([], dtype=float64), array([], dtype=float64),\n",
       "       array([], dtype=float64), ...,\n",
       "       array([0.91811147, 0.93176576, 0.94402485, 0.93686286, 0.9233946 ,\n",
       "              0.9277662 , 0.93444453, 0.92493861, 0.92106928, 0.92438053,\n",
       "              0.93048218, 0.9299055 , 0.93113327, 0.92750577, 0.94415507,\n",
       "              0.93876032, 0.93403527, 0.93483518, 0.9313937 , 0.94636878,\n",
       "              0.96569685, 0.97510976, 0.95966962, 0.97808617, 1.        ,\n",
       "              0.98076494, 0.97083116, 0.98450406, 0.96054394, 0.9371419 ,\n",
       "              0.92841729, 0.90804747, 0.8771858 , 0.92153434, 0.93809063,\n",
       "              0.93165414, 0.95254483, 0.88812412, 0.88637547, 0.87032145,\n",
       "              0.88563137, 0.90743359, 0.91571173, 0.89941588, 0.91805566,\n",
       "              0.9089404 , 0.9024853 , 0.89456061, 0.91600938, 0.9132934 ,\n",
       "              0.88979835, 0.86589404, 0.89030062, 0.90335962, 0.89642086,\n",
       "              0.91777662, 0.93176576, 0.94114145, 0.95762334, 0.96413424]),\n",
       "       array([0.93176576, 0.94402485, 0.93686286, 0.9233946 , 0.9277662 ,\n",
       "              0.93444453, 0.92493861, 0.92106928, 0.92438053, 0.93048218,\n",
       "              0.9299055 , 0.93113327, 0.92750577, 0.94415507, 0.93876032,\n",
       "              0.93403527, 0.93483518, 0.9313937 , 0.94636878, 0.96569685,\n",
       "              0.97510976, 0.95966962, 0.97808617, 1.        , 0.98076494,\n",
       "              0.97083116, 0.98450406, 0.96054394, 0.9371419 , 0.92841729,\n",
       "              0.90804747, 0.8771858 , 0.92153434, 0.93809063, 0.93165414,\n",
       "              0.95254483, 0.88812412, 0.88637547, 0.87032145, 0.88563137,\n",
       "              0.90743359, 0.91571173, 0.89941588, 0.91805566, 0.9089404 ,\n",
       "              0.9024853 , 0.89456061, 0.91600938, 0.9132934 , 0.88979835,\n",
       "              0.86589404, 0.89030062, 0.90335962, 0.89642086, 0.91777662,\n",
       "              0.93176576, 0.94114145, 0.95762334, 0.96413424, 0.96402262]),\n",
       "       array([0.94402485, 0.93686286, 0.9233946 , 0.9277662 , 0.93444453,\n",
       "              0.92493861, 0.92106928, 0.92438053, 0.93048218, 0.9299055 ,\n",
       "              0.93113327, 0.92750577, 0.94415507, 0.93876032, 0.93403527,\n",
       "              0.93483518, 0.9313937 , 0.94636878, 0.96569685, 0.97510976,\n",
       "              0.95966962, 0.97808617, 1.        , 0.98076494, 0.97083116,\n",
       "              0.98450406, 0.96054394, 0.9371419 , 0.92841729, 0.90804747,\n",
       "              0.8771858 , 0.92153434, 0.93809063, 0.93165414, 0.95254483,\n",
       "              0.88812412, 0.88637547, 0.87032145, 0.88563137, 0.90743359,\n",
       "              0.91571173, 0.89941588, 0.91805566, 0.9089404 , 0.9024853 ,\n",
       "              0.89456061, 0.91600938, 0.9132934 , 0.88979835, 0.86589404,\n",
       "              0.89030062, 0.90335962, 0.89642086, 0.91777662, 0.93176576,\n",
       "              0.94114145, 0.95762334, 0.96413424, 0.96402262, 0.96971501])],\n",
       "      dtype=object)"
      ]
     },
     "execution_count": 17,
     "metadata": {},
     "output_type": "execute_result"
    }
   ],
   "source": [
    "X_train"
   ]
  },
  {
   "cell_type": "code",
   "execution_count": null,
   "id": "c2b7ca9b",
   "metadata": {},
   "outputs": [],
   "source": []
  }
 ],
 "metadata": {
  "kernelspec": {
   "display_name": "Python 3 (ipykernel)",
   "language": "python",
   "name": "python3"
  },
  "language_info": {
   "codemirror_mode": {
    "name": "ipython",
    "version": 3
   },
   "file_extension": ".py",
   "mimetype": "text/x-python",
   "name": "python",
   "nbconvert_exporter": "python",
   "pygments_lexer": "ipython3",
   "version": "3.10.9"
  }
 },
 "nbformat": 4,
 "nbformat_minor": 5
}
