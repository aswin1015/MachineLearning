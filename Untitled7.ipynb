{
 "cells": [
  {
   "cell_type": "code",
   "execution_count": 2,
   "id": "f267a5ea",
   "metadata": {},
   "outputs": [
    {
     "name": "stdout",
     "output_type": "stream",
     "text": [
      "[[ 2.]\n",
      " [-1.]\n",
      " [ 1.]]\n",
      "Checking the results must be zero\n",
      "[[-4.4408921e-16]\n",
      " [ 0.0000000e+00]\n",
      " [ 0.0000000e+00]]\n"
     ]
    }
   ],
   "source": [
    "import numpy as np\n",
    "from scipy import linalg\n",
    "\n",
    "a=np.array([[1,2,-3],[2,-5,4],[5,4,-1]])\n",
    "b=np.array([[-3],[13],[5]])\n",
    "\n",
    "x=linalg.solve(a,b)\n",
    "\n",
    "print(x)\n",
    "\n",
    "print(\"Checking the results must be zero\")\n",
    "print(a.dot(x)- b)\n",
    "\n"
   ]
  },
  {
   "cell_type": "code",
   "execution_count": 4,
   "id": "3e336d0a",
   "metadata": {},
   "outputs": [
    {
     "name": "stdout",
     "output_type": "stream",
     "text": [
      "Determinant of \n",
      "[[1 2 9]\n",
      " [3 4 8]\n",
      " [7 8 4]]\n",
      " is 3.9999999999999902\n"
     ]
    }
   ],
   "source": [
    "A=np.array([[1,2,9],[3,4,8],[7,8,4]])\n",
    "x=linalg.det(A)\n",
    "print(\"Determinant of \\n{}\\n is {}\".format(A,x))"
   ]
  },
  {
   "cell_type": "code",
   "execution_count": null,
   "id": "43c34011",
   "metadata": {},
   "outputs": [],
   "source": []
  }
 ],
 "metadata": {
  "kernelspec": {
   "display_name": "Python 3 (ipykernel)",
   "language": "python",
   "name": "python3"
  },
  "language_info": {
   "codemirror_mode": {
    "name": "ipython",
    "version": 3
   },
   "file_extension": ".py",
   "mimetype": "text/x-python",
   "name": "python",
   "nbconvert_exporter": "python",
   "pygments_lexer": "ipython3",
   "version": "3.10.9"
  }
 },
 "nbformat": 4,
 "nbformat_minor": 5
}
