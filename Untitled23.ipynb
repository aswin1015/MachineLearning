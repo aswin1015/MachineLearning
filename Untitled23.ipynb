{
 "cells": [
  {
   "cell_type": "code",
   "execution_count": 77,
   "id": "089ca1e8",
   "metadata": {},
   "outputs": [],
   "source": [
    "import numpy as np\n",
    "import matplotlib.pyplot as plt\n",
    "import pandas as pd"
   ]
  },
  {
   "cell_type": "code",
   "execution_count": 78,
   "id": "64bc9c8d",
   "metadata": {},
   "outputs": [],
   "source": [
    "data=pd.read_csv(r\"C:\\Users\\Admin\\Social_Network_Ads(1).xls\")"
   ]
  },
  {
   "cell_type": "code",
   "execution_count": 79,
   "id": "9ab6b98a",
   "metadata": {},
   "outputs": [
    {
     "data": {
      "text/html": [
       "<div>\n",
       "<style scoped>\n",
       "    .dataframe tbody tr th:only-of-type {\n",
       "        vertical-align: middle;\n",
       "    }\n",
       "\n",
       "    .dataframe tbody tr th {\n",
       "        vertical-align: top;\n",
       "    }\n",
       "\n",
       "    .dataframe thead th {\n",
       "        text-align: right;\n",
       "    }\n",
       "</style>\n",
       "<table border=\"1\" class=\"dataframe\">\n",
       "  <thead>\n",
       "    <tr style=\"text-align: right;\">\n",
       "      <th></th>\n",
       "      <th>User ID</th>\n",
       "      <th>Gender</th>\n",
       "      <th>Age</th>\n",
       "      <th>EstimatedSalary</th>\n",
       "      <th>Purchased</th>\n",
       "    </tr>\n",
       "  </thead>\n",
       "  <tbody>\n",
       "    <tr>\n",
       "      <th>0</th>\n",
       "      <td>15624510</td>\n",
       "      <td>Male</td>\n",
       "      <td>19</td>\n",
       "      <td>19000</td>\n",
       "      <td>0</td>\n",
       "    </tr>\n",
       "    <tr>\n",
       "      <th>1</th>\n",
       "      <td>15810944</td>\n",
       "      <td>Male</td>\n",
       "      <td>35</td>\n",
       "      <td>20000</td>\n",
       "      <td>0</td>\n",
       "    </tr>\n",
       "    <tr>\n",
       "      <th>2</th>\n",
       "      <td>15668575</td>\n",
       "      <td>Female</td>\n",
       "      <td>26</td>\n",
       "      <td>43000</td>\n",
       "      <td>0</td>\n",
       "    </tr>\n",
       "    <tr>\n",
       "      <th>3</th>\n",
       "      <td>15603246</td>\n",
       "      <td>Female</td>\n",
       "      <td>27</td>\n",
       "      <td>57000</td>\n",
       "      <td>0</td>\n",
       "    </tr>\n",
       "    <tr>\n",
       "      <th>4</th>\n",
       "      <td>15804002</td>\n",
       "      <td>Male</td>\n",
       "      <td>19</td>\n",
       "      <td>76000</td>\n",
       "      <td>0</td>\n",
       "    </tr>\n",
       "  </tbody>\n",
       "</table>\n",
       "</div>"
      ],
      "text/plain": [
       "    User ID  Gender  Age  EstimatedSalary  Purchased\n",
       "0  15624510    Male   19            19000          0\n",
       "1  15810944    Male   35            20000          0\n",
       "2  15668575  Female   26            43000          0\n",
       "3  15603246  Female   27            57000          0\n",
       "4  15804002    Male   19            76000          0"
      ]
     },
     "execution_count": 79,
     "metadata": {},
     "output_type": "execute_result"
    }
   ],
   "source": [
    "data.head()"
   ]
  },
  {
   "cell_type": "code",
   "execution_count": 80,
   "id": "d2f861ff",
   "metadata": {},
   "outputs": [],
   "source": [
    "X=data.iloc[:,[2,3]].values\n",
    "y=data.iloc[:,4].values"
   ]
  },
  {
   "cell_type": "code",
   "execution_count": 81,
   "id": "3ce2c210",
   "metadata": {},
   "outputs": [
    {
     "data": {
      "text/plain": [
       "(400, 2)"
      ]
     },
     "execution_count": 81,
     "metadata": {},
     "output_type": "execute_result"
    }
   ],
   "source": [
    "X.shape"
   ]
  },
  {
   "cell_type": "code",
   "execution_count": 82,
   "id": "a41cf101",
   "metadata": {},
   "outputs": [
    {
     "data": {
      "text/plain": [
       "(400,)"
      ]
     },
     "execution_count": 82,
     "metadata": {},
     "output_type": "execute_result"
    }
   ],
   "source": [
    "y.shape"
   ]
  },
  {
   "cell_type": "code",
   "execution_count": 99,
   "id": "d0e132b0",
   "metadata": {},
   "outputs": [],
   "source": [
    "from sklearn.model_selection import train_test_split\n",
    "X_train,X_test,y_train,y_test=train_test_split(X,y,test_size=0.25)"
   ]
  },
  {
   "cell_type": "code",
   "execution_count": 100,
   "id": "2bf3155a",
   "metadata": {},
   "outputs": [],
   "source": [
    "from sklearn.preprocessing import StandardScaler\n",
    "sc=StandardScaler()\n",
    "X_train=sc.fit_transform(X_train)\n",
    "X_test=sc.fit_transform(X_test)"
   ]
  },
  {
   "cell_type": "code",
   "execution_count": 101,
   "id": "76495fc2",
   "metadata": {},
   "outputs": [
    {
     "data": {
      "text/html": [
       "<style>#sk-container-id-8 {color: black;background-color: white;}#sk-container-id-8 pre{padding: 0;}#sk-container-id-8 div.sk-toggleable {background-color: white;}#sk-container-id-8 label.sk-toggleable__label {cursor: pointer;display: block;width: 100%;margin-bottom: 0;padding: 0.3em;box-sizing: border-box;text-align: center;}#sk-container-id-8 label.sk-toggleable__label-arrow:before {content: \"▸\";float: left;margin-right: 0.25em;color: #696969;}#sk-container-id-8 label.sk-toggleable__label-arrow:hover:before {color: black;}#sk-container-id-8 div.sk-estimator:hover label.sk-toggleable__label-arrow:before {color: black;}#sk-container-id-8 div.sk-toggleable__content {max-height: 0;max-width: 0;overflow: hidden;text-align: left;background-color: #f0f8ff;}#sk-container-id-8 div.sk-toggleable__content pre {margin: 0.2em;color: black;border-radius: 0.25em;background-color: #f0f8ff;}#sk-container-id-8 input.sk-toggleable__control:checked~div.sk-toggleable__content {max-height: 200px;max-width: 100%;overflow: auto;}#sk-container-id-8 input.sk-toggleable__control:checked~label.sk-toggleable__label-arrow:before {content: \"▾\";}#sk-container-id-8 div.sk-estimator input.sk-toggleable__control:checked~label.sk-toggleable__label {background-color: #d4ebff;}#sk-container-id-8 div.sk-label input.sk-toggleable__control:checked~label.sk-toggleable__label {background-color: #d4ebff;}#sk-container-id-8 input.sk-hidden--visually {border: 0;clip: rect(1px 1px 1px 1px);clip: rect(1px, 1px, 1px, 1px);height: 1px;margin: -1px;overflow: hidden;padding: 0;position: absolute;width: 1px;}#sk-container-id-8 div.sk-estimator {font-family: monospace;background-color: #f0f8ff;border: 1px dotted black;border-radius: 0.25em;box-sizing: border-box;margin-bottom: 0.5em;}#sk-container-id-8 div.sk-estimator:hover {background-color: #d4ebff;}#sk-container-id-8 div.sk-parallel-item::after {content: \"\";width: 100%;border-bottom: 1px solid gray;flex-grow: 1;}#sk-container-id-8 div.sk-label:hover label.sk-toggleable__label {background-color: #d4ebff;}#sk-container-id-8 div.sk-serial::before {content: \"\";position: absolute;border-left: 1px solid gray;box-sizing: border-box;top: 0;bottom: 0;left: 50%;z-index: 0;}#sk-container-id-8 div.sk-serial {display: flex;flex-direction: column;align-items: center;background-color: white;padding-right: 0.2em;padding-left: 0.2em;position: relative;}#sk-container-id-8 div.sk-item {position: relative;z-index: 1;}#sk-container-id-8 div.sk-parallel {display: flex;align-items: stretch;justify-content: center;background-color: white;position: relative;}#sk-container-id-8 div.sk-item::before, #sk-container-id-8 div.sk-parallel-item::before {content: \"\";position: absolute;border-left: 1px solid gray;box-sizing: border-box;top: 0;bottom: 0;left: 50%;z-index: -1;}#sk-container-id-8 div.sk-parallel-item {display: flex;flex-direction: column;z-index: 1;position: relative;background-color: white;}#sk-container-id-8 div.sk-parallel-item:first-child::after {align-self: flex-end;width: 50%;}#sk-container-id-8 div.sk-parallel-item:last-child::after {align-self: flex-start;width: 50%;}#sk-container-id-8 div.sk-parallel-item:only-child::after {width: 0;}#sk-container-id-8 div.sk-dashed-wrapped {border: 1px dashed gray;margin: 0 0.4em 0.5em 0.4em;box-sizing: border-box;padding-bottom: 0.4em;background-color: white;}#sk-container-id-8 div.sk-label label {font-family: monospace;font-weight: bold;display: inline-block;line-height: 1.2em;}#sk-container-id-8 div.sk-label-container {text-align: center;}#sk-container-id-8 div.sk-container {/* jupyter's `normalize.less` sets `[hidden] { display: none; }` but bootstrap.min.css set `[hidden] { display: none !important; }` so we also need the `!important` here to be able to override the default hidden behavior on the sphinx rendered scikit-learn.org. See: https://github.com/scikit-learn/scikit-learn/issues/21755 */display: inline-block !important;position: relative;}#sk-container-id-8 div.sk-text-repr-fallback {display: none;}</style><div id=\"sk-container-id-8\" class=\"sk-top-container\"><div class=\"sk-text-repr-fallback\"><pre>SVC()</pre><b>In a Jupyter environment, please rerun this cell to show the HTML representation or trust the notebook. <br />On GitHub, the HTML representation is unable to render, please try loading this page with nbviewer.org.</b></div><div class=\"sk-container\" hidden><div class=\"sk-item\"><div class=\"sk-estimator sk-toggleable\"><input class=\"sk-toggleable__control sk-hidden--visually\" id=\"sk-estimator-id-8\" type=\"checkbox\" checked><label for=\"sk-estimator-id-8\" class=\"sk-toggleable__label sk-toggleable__label-arrow\">SVC</label><div class=\"sk-toggleable__content\"><pre>SVC()</pre></div></div></div></div></div>"
      ],
      "text/plain": [
       "SVC()"
      ]
     },
     "execution_count": 101,
     "metadata": {},
     "output_type": "execute_result"
    }
   ],
   "source": [
    "from sklearn.svm import SVC\n",
    "cl=SVC()\n",
    "cl.fit(X_train,y_train)"
   ]
  },
  {
   "cell_type": "code",
   "execution_count": 102,
   "id": "747a3334",
   "metadata": {},
   "outputs": [
    {
     "data": {
      "text/plain": [
       "array([0, 0, 0, 1, 0, 0, 0, 0, 1, 1, 0, 1, 0, 0, 1, 0, 0, 0, 1, 0, 1, 1,\n",
       "       1, 1, 0, 0, 0, 1, 0, 1, 0, 0, 0, 1, 0, 1, 0, 0, 0, 0, 1, 1, 1, 1,\n",
       "       0, 0, 0, 0, 1, 1, 0, 0, 0, 1, 0, 0, 0, 0, 0, 1, 1, 1, 0, 0, 0, 0,\n",
       "       0, 0, 0, 0, 0, 0, 0, 0, 0, 0, 1, 1, 0, 1, 0, 0, 0, 0, 1, 0, 1, 0,\n",
       "       0, 1, 0, 1, 0, 1, 1, 1, 0, 0, 0, 0], dtype=int64)"
      ]
     },
     "execution_count": 102,
     "metadata": {},
     "output_type": "execute_result"
    }
   ],
   "source": [
    "y_pred=cl.predict(X_test)\n",
    "y_pred"
   ]
  },
  {
   "cell_type": "code",
   "execution_count": 103,
   "id": "181bbebe",
   "metadata": {},
   "outputs": [],
   "source": [
    "from sklearn.metrics import confusion_matrix\n",
    "cm=confusion_matrix(y_test,y_pred)"
   ]
  },
  {
   "cell_type": "code",
   "execution_count": 104,
   "id": "f432c421",
   "metadata": {},
   "outputs": [
    {
     "data": {
      "text/plain": [
       "array([[64,  4],\n",
       "       [ 2, 30]], dtype=int64)"
      ]
     },
     "execution_count": 104,
     "metadata": {},
     "output_type": "execute_result"
    }
   ],
   "source": [
    "cm"
   ]
  },
  {
   "cell_type": "code",
   "execution_count": 105,
   "id": "2397aa62",
   "metadata": {},
   "outputs": [
    {
     "data": {
      "text/plain": [
       "0.94"
      ]
     },
     "execution_count": 105,
     "metadata": {},
     "output_type": "execute_result"
    }
   ],
   "source": [
    "cl.score(X_test,y_test)"
   ]
  },
  {
   "cell_type": "code",
   "execution_count": null,
   "id": "5214a8a8",
   "metadata": {},
   "outputs": [],
   "source": []
  },
  {
   "cell_type": "code",
   "execution_count": 106,
   "id": "5b4901e3",
   "metadata": {},
   "outputs": [],
   "source": [
    "data=pd.read_csv(r\"C:\\Users\\Admin\\iphone_purchase_records.csv\")"
   ]
  },
  {
   "cell_type": "code",
   "execution_count": 107,
   "id": "f288c55a",
   "metadata": {},
   "outputs": [
    {
     "data": {
      "text/html": [
       "<div>\n",
       "<style scoped>\n",
       "    .dataframe tbody tr th:only-of-type {\n",
       "        vertical-align: middle;\n",
       "    }\n",
       "\n",
       "    .dataframe tbody tr th {\n",
       "        vertical-align: top;\n",
       "    }\n",
       "\n",
       "    .dataframe thead th {\n",
       "        text-align: right;\n",
       "    }\n",
       "</style>\n",
       "<table border=\"1\" class=\"dataframe\">\n",
       "  <thead>\n",
       "    <tr style=\"text-align: right;\">\n",
       "      <th></th>\n",
       "      <th>Gender</th>\n",
       "      <th>Age</th>\n",
       "      <th>Salary</th>\n",
       "      <th>Purchase Iphone</th>\n",
       "    </tr>\n",
       "  </thead>\n",
       "  <tbody>\n",
       "    <tr>\n",
       "      <th>0</th>\n",
       "      <td>Male</td>\n",
       "      <td>19</td>\n",
       "      <td>19000</td>\n",
       "      <td>0</td>\n",
       "    </tr>\n",
       "    <tr>\n",
       "      <th>1</th>\n",
       "      <td>Male</td>\n",
       "      <td>35</td>\n",
       "      <td>20000</td>\n",
       "      <td>0</td>\n",
       "    </tr>\n",
       "    <tr>\n",
       "      <th>2</th>\n",
       "      <td>Female</td>\n",
       "      <td>26</td>\n",
       "      <td>43000</td>\n",
       "      <td>0</td>\n",
       "    </tr>\n",
       "    <tr>\n",
       "      <th>3</th>\n",
       "      <td>Female</td>\n",
       "      <td>27</td>\n",
       "      <td>57000</td>\n",
       "      <td>0</td>\n",
       "    </tr>\n",
       "    <tr>\n",
       "      <th>4</th>\n",
       "      <td>Male</td>\n",
       "      <td>19</td>\n",
       "      <td>76000</td>\n",
       "      <td>0</td>\n",
       "    </tr>\n",
       "  </tbody>\n",
       "</table>\n",
       "</div>"
      ],
      "text/plain": [
       "   Gender  Age  Salary  Purchase Iphone\n",
       "0    Male   19   19000                0\n",
       "1    Male   35   20000                0\n",
       "2  Female   26   43000                0\n",
       "3  Female   27   57000                0\n",
       "4    Male   19   76000                0"
      ]
     },
     "execution_count": 107,
     "metadata": {},
     "output_type": "execute_result"
    }
   ],
   "source": [
    "data.head()"
   ]
  },
  {
   "cell_type": "code",
   "execution_count": 108,
   "id": "4792ddf8",
   "metadata": {},
   "outputs": [],
   "source": [
    "X=data.iloc[:,:-1].values\n",
    "y=data.iloc[:,-1].values\n"
   ]
  },
  {
   "cell_type": "code",
   "execution_count": 109,
   "id": "6bb03084",
   "metadata": {},
   "outputs": [
    {
     "data": {
      "text/plain": [
       "array([['Male', 19, 19000],\n",
       "       ['Male', 35, 20000],\n",
       "       ['Female', 26, 43000],\n",
       "       ...,\n",
       "       ['Female', 50, 20000],\n",
       "       ['Male', 36, 33000],\n",
       "       ['Female', 49, 36000]], dtype=object)"
      ]
     },
     "execution_count": 109,
     "metadata": {},
     "output_type": "execute_result"
    }
   ],
   "source": [
    "X"
   ]
  },
  {
   "cell_type": "code",
   "execution_count": 110,
   "id": "5818c366",
   "metadata": {},
   "outputs": [
    {
     "data": {
      "text/plain": [
       "array([0, 0, 0, 0, 0, 0, 0, 1, 0, 0, 0, 0, 0, 0, 0, 0, 1, 1, 1, 1, 1, 1,\n",
       "       1, 1, 1, 1, 1, 1, 0, 0, 0, 1, 0, 0, 0, 0, 0, 0, 0, 0, 0, 0, 0, 0,\n",
       "       0, 0, 0, 0, 1, 0, 0, 0, 0, 0, 0, 0, 0, 0, 0, 0, 0, 0, 0, 1, 0, 0,\n",
       "       0, 0, 0, 0, 0, 0, 0, 0, 0, 1, 0, 0, 0, 0, 0, 0, 0, 0, 0, 1, 0, 0,\n",
       "       0, 0, 0, 0, 0, 0, 0, 0, 0, 1, 0, 0, 0, 0, 0, 1, 0, 0, 0, 0, 0, 0,\n",
       "       0, 0, 0, 0, 0, 0, 0, 0, 0, 0, 0, 0, 0, 0, 0, 0, 0, 0, 0, 0, 0, 0,\n",
       "       0, 0, 0, 0, 0, 1, 0, 0, 0, 0, 0, 0, 0, 0, 1, 0, 0, 0, 0, 0, 0, 0,\n",
       "       0, 0, 0, 0, 0, 1, 1, 0, 0, 0, 0, 0, 0, 0, 1, 0, 0, 0, 0, 0, 0, 0,\n",
       "       0, 0, 0, 0, 0, 0, 1, 0, 0, 0, 0, 0, 0, 0, 0, 0, 0, 0, 0, 0, 0, 0,\n",
       "       0, 0, 0, 0, 1, 0, 1, 0, 1, 0, 1, 0, 1, 1, 0, 0, 0, 1, 0, 0, 0, 1,\n",
       "       0, 1, 1, 1, 0, 0, 1, 1, 0, 1, 1, 0, 1, 1, 0, 1, 0, 0, 0, 1, 1, 0,\n",
       "       1, 1, 0, 1, 0, 1, 0, 1, 0, 0, 1, 1, 0, 1, 0, 0, 1, 1, 0, 1, 1, 0,\n",
       "       1, 1, 0, 0, 1, 0, 0, 1, 1, 1, 1, 1, 0, 1, 1, 1, 1, 0, 1, 1, 0, 1,\n",
       "       0, 1, 0, 1, 1, 1, 1, 0, 0, 0, 1, 1, 0, 1, 1, 1, 1, 1, 0, 0, 0, 1,\n",
       "       1, 0, 0, 1, 0, 1, 0, 1, 1, 0, 1, 0, 1, 1, 0, 1, 1, 0, 0, 0, 1, 1,\n",
       "       0, 1, 0, 0, 1, 0, 1, 0, 0, 1, 1, 0, 0, 1, 1, 0, 1, 1, 0, 0, 1, 0,\n",
       "       1, 0, 1, 1, 1, 0, 1, 0, 1, 1, 1, 0, 1, 1, 1, 1, 0, 1, 1, 1, 0, 1,\n",
       "       0, 1, 0, 0, 1, 1, 0, 1, 1, 1, 1, 1, 1, 0, 1, 1, 1, 1, 1, 1, 0, 1,\n",
       "       1, 1, 0, 1], dtype=int64)"
      ]
     },
     "execution_count": 110,
     "metadata": {},
     "output_type": "execute_result"
    }
   ],
   "source": [
    "y"
   ]
  },
  {
   "cell_type": "code",
   "execution_count": 111,
   "id": "8ccec597",
   "metadata": {},
   "outputs": [
    {
     "name": "stderr",
     "output_type": "stream",
     "text": [
      "C:\\Users\\Admin\\AppData\\Local\\Temp\\ipykernel_4712\\4264563967.py:5: DeprecationWarning: `np.float` is a deprecated alias for the builtin `float`. To silence this warning, use `float` by itself. Doing this will not modify any behavior and is safe. If you specifically wanted the numpy scalar type, use `np.float64` here.\n",
      "Deprecated in NumPy 1.20; for more details and guidance: https://numpy.org/devdocs/release/1.20.0-notes.html#deprecations\n",
      "  X=np.vstack(X[:,:]).astype(np.float)\n"
     ]
    }
   ],
   "source": [
    "from sklearn.preprocessing import LabelEncoder\n",
    "leg=LabelEncoder()\n",
    "X[:,0]=leg.fit_transform(X[:,0])\n",
    "\n",
    "X=np.vstack(X[:,:]).astype(np.float)"
   ]
  },
  {
   "cell_type": "code",
   "execution_count": 112,
   "id": "b761210f",
   "metadata": {},
   "outputs": [],
   "source": [
    "from sklearn.model_selection import train_test_split\n",
    "X_train,X_test,y_train,y_test= train_test_split(X,y,test_size=0.2)"
   ]
  },
  {
   "cell_type": "code",
   "execution_count": 113,
   "id": "86648e2d",
   "metadata": {},
   "outputs": [
    {
     "data": {
      "text/plain": [
       "array([[1.00e+00, 2.50e+01, 2.20e+04],\n",
       "       [0.00e+00, 4.60e+01, 2.20e+04],\n",
       "       [1.00e+00, 3.50e+01, 9.10e+04],\n",
       "       [0.00e+00, 2.30e+01, 4.80e+04],\n",
       "       [0.00e+00, 4.10e+01, 8.00e+04],\n",
       "       [0.00e+00, 4.10e+01, 3.00e+04],\n",
       "       [1.00e+00, 4.00e+01, 5.70e+04],\n",
       "       [1.00e+00, 2.60e+01, 8.00e+04],\n",
       "       [0.00e+00, 2.10e+01, 1.60e+04],\n",
       "       [0.00e+00, 5.90e+01, 8.80e+04],\n",
       "       [1.00e+00, 4.00e+01, 5.70e+04],\n",
       "       [1.00e+00, 3.50e+01, 6.10e+04],\n",
       "       [0.00e+00, 3.40e+01, 7.20e+04],\n",
       "       [1.00e+00, 2.00e+01, 7.40e+04],\n",
       "       [0.00e+00, 4.40e+01, 1.39e+05],\n",
       "       [1.00e+00, 3.50e+01, 7.50e+04],\n",
       "       [0.00e+00, 3.50e+01, 5.00e+04],\n",
       "       [0.00e+00, 4.00e+01, 6.00e+04],\n",
       "       [1.00e+00, 3.60e+01, 3.30e+04],\n",
       "       [0.00e+00, 4.70e+01, 5.10e+04],\n",
       "       [0.00e+00, 4.60e+01, 9.60e+04],\n",
       "       [0.00e+00, 4.60e+01, 7.40e+04],\n",
       "       [1.00e+00, 2.50e+01, 8.70e+04],\n",
       "       [0.00e+00, 4.80e+01, 1.38e+05],\n",
       "       [0.00e+00, 3.50e+01, 9.70e+04],\n",
       "       [0.00e+00, 5.90e+01, 4.20e+04],\n",
       "       [0.00e+00, 3.90e+01, 1.34e+05],\n",
       "       [0.00e+00, 6.00e+01, 1.08e+05],\n",
       "       [0.00e+00, 2.90e+01, 4.70e+04],\n",
       "       [0.00e+00, 4.20e+01, 8.00e+04],\n",
       "       [0.00e+00, 5.70e+01, 1.22e+05],\n",
       "       [0.00e+00, 3.90e+01, 5.90e+04],\n",
       "       [1.00e+00, 4.80e+01, 9.00e+04],\n",
       "       [1.00e+00, 3.10e+01, 5.80e+04],\n",
       "       [0.00e+00, 5.90e+01, 8.30e+04],\n",
       "       [0.00e+00, 5.20e+01, 1.38e+05],\n",
       "       [0.00e+00, 2.30e+01, 8.20e+04],\n",
       "       [0.00e+00, 4.80e+01, 3.50e+04],\n",
       "       [1.00e+00, 3.60e+01, 1.18e+05],\n",
       "       [1.00e+00, 4.60e+01, 1.17e+05],\n",
       "       [0.00e+00, 4.80e+01, 1.34e+05],\n",
       "       [1.00e+00, 4.60e+01, 2.30e+04],\n",
       "       [0.00e+00, 4.70e+01, 1.44e+05],\n",
       "       [1.00e+00, 4.20e+01, 6.50e+04],\n",
       "       [1.00e+00, 4.20e+01, 8.00e+04],\n",
       "       [0.00e+00, 4.20e+01, 7.90e+04],\n",
       "       [0.00e+00, 2.60e+01, 8.00e+04],\n",
       "       [0.00e+00, 4.70e+01, 4.70e+04],\n",
       "       [1.00e+00, 4.10e+01, 5.20e+04],\n",
       "       [0.00e+00, 1.90e+01, 2.60e+04],\n",
       "       [1.00e+00, 3.60e+01, 6.00e+04],\n",
       "       [1.00e+00, 3.50e+01, 5.90e+04],\n",
       "       [0.00e+00, 2.20e+01, 2.70e+04],\n",
       "       [1.00e+00, 6.00e+01, 3.40e+04],\n",
       "       [1.00e+00, 6.00e+01, 4.20e+04],\n",
       "       [1.00e+00, 2.80e+01, 5.90e+04],\n",
       "       [1.00e+00, 2.60e+01, 8.60e+04],\n",
       "       [1.00e+00, 2.70e+01, 9.00e+04],\n",
       "       [1.00e+00, 4.00e+01, 7.80e+04],\n",
       "       [1.00e+00, 2.50e+01, 7.90e+04],\n",
       "       [0.00e+00, 4.10e+01, 7.10e+04],\n",
       "       [1.00e+00, 3.80e+01, 6.10e+04],\n",
       "       [1.00e+00, 3.90e+01, 4.20e+04],\n",
       "       [0.00e+00, 4.00e+01, 7.50e+04],\n",
       "       [0.00e+00, 3.10e+01, 1.50e+04],\n",
       "       [1.00e+00, 1.90e+01, 7.60e+04],\n",
       "       [1.00e+00, 4.10e+01, 4.50e+04],\n",
       "       [0.00e+00, 4.10e+01, 7.20e+04],\n",
       "       [0.00e+00, 4.10e+01, 6.30e+04],\n",
       "       [1.00e+00, 5.70e+01, 7.40e+04],\n",
       "       [0.00e+00, 2.80e+01, 8.70e+04],\n",
       "       [1.00e+00, 5.70e+01, 6.00e+04],\n",
       "       [0.00e+00, 3.70e+01, 1.37e+05],\n",
       "       [0.00e+00, 4.70e+01, 4.90e+04],\n",
       "       [0.00e+00, 4.30e+01, 1.12e+05],\n",
       "       [1.00e+00, 2.90e+01, 7.50e+04],\n",
       "       [0.00e+00, 2.70e+01, 5.70e+04],\n",
       "       [0.00e+00, 2.70e+01, 1.70e+04],\n",
       "       [1.00e+00, 3.80e+01, 5.10e+04],\n",
       "       [1.00e+00, 3.80e+01, 7.10e+04],\n",
       "       [0.00e+00, 2.70e+01, 5.40e+04],\n",
       "       [1.00e+00, 2.70e+01, 5.80e+04],\n",
       "       [1.00e+00, 4.20e+01, 1.04e+05],\n",
       "       [1.00e+00, 4.10e+01, 5.20e+04],\n",
       "       [0.00e+00, 3.80e+01, 8.00e+04],\n",
       "       [0.00e+00, 2.00e+01, 8.20e+04],\n",
       "       [1.00e+00, 3.00e+01, 1.07e+05],\n",
       "       [0.00e+00, 4.90e+01, 3.90e+04],\n",
       "       [1.00e+00, 3.70e+01, 7.70e+04],\n",
       "       [0.00e+00, 3.50e+01, 2.50e+04],\n",
       "       [0.00e+00, 3.90e+01, 7.90e+04],\n",
       "       [0.00e+00, 5.10e+01, 1.46e+05],\n",
       "       [0.00e+00, 5.30e+01, 3.40e+04],\n",
       "       [1.00e+00, 2.90e+01, 8.00e+04],\n",
       "       [1.00e+00, 3.20e+01, 1.20e+05],\n",
       "       [0.00e+00, 4.40e+01, 3.90e+04],\n",
       "       [1.00e+00, 4.90e+01, 2.80e+04],\n",
       "       [1.00e+00, 1.80e+01, 5.20e+04],\n",
       "       [1.00e+00, 3.00e+01, 4.90e+04],\n",
       "       [1.00e+00, 5.20e+01, 1.50e+05],\n",
       "       [1.00e+00, 4.50e+01, 2.20e+04],\n",
       "       [1.00e+00, 3.80e+01, 5.90e+04],\n",
       "       [1.00e+00, 4.70e+01, 4.30e+04],\n",
       "       [1.00e+00, 4.00e+01, 7.10e+04],\n",
       "       [1.00e+00, 4.80e+01, 1.41e+05],\n",
       "       [1.00e+00, 3.10e+01, 1.80e+04],\n",
       "       [1.00e+00, 4.10e+01, 8.70e+04],\n",
       "       [0.00e+00, 5.70e+01, 3.30e+04],\n",
       "       [0.00e+00, 2.70e+01, 8.40e+04],\n",
       "       [0.00e+00, 6.00e+01, 4.60e+04],\n",
       "       [0.00e+00, 3.10e+01, 7.10e+04],\n",
       "       [0.00e+00, 1.80e+01, 6.80e+04],\n",
       "       [0.00e+00, 2.00e+01, 2.30e+04],\n",
       "       [1.00e+00, 3.90e+01, 7.10e+04],\n",
       "       [1.00e+00, 4.00e+01, 5.90e+04],\n",
       "       [1.00e+00, 3.50e+01, 3.80e+04],\n",
       "       [1.00e+00, 4.10e+01, 5.90e+04],\n",
       "       [1.00e+00, 2.90e+01, 6.10e+04],\n",
       "       [1.00e+00, 1.90e+01, 7.00e+04],\n",
       "       [1.00e+00, 2.80e+01, 3.20e+04],\n",
       "       [0.00e+00, 4.10e+01, 6.00e+04],\n",
       "       [0.00e+00, 4.10e+01, 7.20e+04],\n",
       "       [0.00e+00, 4.30e+01, 1.33e+05],\n",
       "       [0.00e+00, 2.80e+01, 5.50e+04],\n",
       "       [0.00e+00, 2.80e+01, 8.40e+04],\n",
       "       [0.00e+00, 5.20e+01, 3.80e+04],\n",
       "       [1.00e+00, 3.50e+01, 5.00e+04],\n",
       "       [0.00e+00, 3.50e+01, 7.10e+04],\n",
       "       [0.00e+00, 3.50e+01, 6.50e+04],\n",
       "       [1.00e+00, 2.60e+01, 3.00e+04],\n",
       "       [1.00e+00, 4.00e+01, 4.70e+04],\n",
       "       [1.00e+00, 4.10e+01, 7.20e+04],\n",
       "       [0.00e+00, 4.90e+01, 1.41e+05],\n",
       "       [1.00e+00, 4.50e+01, 2.60e+04],\n",
       "       [0.00e+00, 5.40e+01, 1.04e+05],\n",
       "       [1.00e+00, 4.70e+01, 2.30e+04],\n",
       "       [0.00e+00, 5.90e+01, 2.90e+04],\n",
       "       [1.00e+00, 3.80e+01, 7.10e+04],\n",
       "       [1.00e+00, 3.10e+01, 7.60e+04],\n",
       "       [0.00e+00, 3.40e+01, 4.30e+04],\n",
       "       [0.00e+00, 2.80e+01, 4.40e+04],\n",
       "       [1.00e+00, 3.50e+01, 1.08e+05],\n",
       "       [0.00e+00, 2.70e+01, 5.80e+04],\n",
       "       [0.00e+00, 5.20e+01, 1.14e+05],\n",
       "       [0.00e+00, 2.00e+01, 8.20e+04],\n",
       "       [0.00e+00, 5.70e+01, 2.60e+04],\n",
       "       [0.00e+00, 3.50e+01, 2.30e+04],\n",
       "       [0.00e+00, 3.10e+01, 6.80e+04],\n",
       "       [1.00e+00, 2.10e+01, 8.80e+04],\n",
       "       [0.00e+00, 2.60e+01, 4.30e+04],\n",
       "       [1.00e+00, 3.50e+01, 7.50e+04],\n",
       "       [0.00e+00, 4.60e+01, 8.20e+04],\n",
       "       [0.00e+00, 5.00e+01, 4.40e+04],\n",
       "       [0.00e+00, 2.20e+01, 6.30e+04],\n",
       "       [1.00e+00, 3.50e+01, 8.80e+04],\n",
       "       [0.00e+00, 5.30e+01, 1.04e+05],\n",
       "       [0.00e+00, 4.70e+01, 1.07e+05],\n",
       "       [0.00e+00, 2.90e+01, 2.80e+04],\n",
       "       [1.00e+00, 3.00e+01, 8.90e+04],\n",
       "       [1.00e+00, 3.70e+01, 7.50e+04],\n",
       "       [1.00e+00, 3.70e+01, 5.20e+04],\n",
       "       [0.00e+00, 3.50e+01, 4.70e+04],\n",
       "       [0.00e+00, 2.40e+01, 2.70e+04],\n",
       "       [1.00e+00, 3.50e+01, 5.50e+04],\n",
       "       [1.00e+00, 4.90e+01, 6.50e+04],\n",
       "       [0.00e+00, 3.10e+01, 1.18e+05],\n",
       "       [0.00e+00, 4.90e+01, 3.60e+04],\n",
       "       [1.00e+00, 2.80e+01, 1.23e+05],\n",
       "       [1.00e+00, 4.60e+01, 5.90e+04],\n",
       "       [0.00e+00, 3.30e+01, 4.10e+04],\n",
       "       [1.00e+00, 1.90e+01, 1.90e+04],\n",
       "       [0.00e+00, 5.20e+01, 9.00e+04],\n",
       "       [1.00e+00, 3.70e+01, 1.44e+05],\n",
       "       [1.00e+00, 2.30e+01, 6.30e+04],\n",
       "       [0.00e+00, 4.50e+01, 4.50e+04],\n",
       "       [1.00e+00, 2.60e+01, 1.60e+04],\n",
       "       [0.00e+00, 4.20e+01, 1.08e+05],\n",
       "       [1.00e+00, 4.80e+01, 3.30e+04],\n",
       "       [0.00e+00, 4.80e+01, 1.19e+05],\n",
       "       [1.00e+00, 4.50e+01, 7.90e+04],\n",
       "       [0.00e+00, 3.00e+01, 1.16e+05],\n",
       "       [0.00e+00, 1.80e+01, 8.60e+04],\n",
       "       [0.00e+00, 5.00e+01, 8.80e+04],\n",
       "       [1.00e+00, 2.90e+01, 4.30e+04],\n",
       "       [1.00e+00, 3.10e+01, 7.40e+04],\n",
       "       [0.00e+00, 5.90e+01, 7.60e+04],\n",
       "       [0.00e+00, 5.80e+01, 3.80e+04],\n",
       "       [1.00e+00, 4.20e+01, 5.40e+04],\n",
       "       [0.00e+00, 4.10e+01, 5.10e+04],\n",
       "       [1.00e+00, 2.60e+01, 1.50e+04],\n",
       "       [1.00e+00, 6.00e+01, 4.20e+04],\n",
       "       [0.00e+00, 2.90e+01, 8.30e+04],\n",
       "       [1.00e+00, 4.80e+01, 3.30e+04],\n",
       "       [0.00e+00, 3.30e+01, 6.00e+04],\n",
       "       [0.00e+00, 3.70e+01, 6.20e+04],\n",
       "       [1.00e+00, 4.90e+01, 8.80e+04],\n",
       "       [0.00e+00, 4.20e+01, 7.50e+04],\n",
       "       [1.00e+00, 4.10e+01, 7.90e+04],\n",
       "       [1.00e+00, 3.50e+01, 5.80e+04],\n",
       "       [0.00e+00, 4.50e+01, 1.31e+05],\n",
       "       [1.00e+00, 3.60e+01, 1.25e+05],\n",
       "       [1.00e+00, 2.90e+01, 1.48e+05],\n",
       "       [1.00e+00, 4.20e+01, 6.50e+04],\n",
       "       [1.00e+00, 2.70e+01, 8.90e+04],\n",
       "       [1.00e+00, 3.90e+01, 1.34e+05],\n",
       "       [0.00e+00, 3.10e+01, 8.90e+04],\n",
       "       [1.00e+00, 1.80e+01, 8.20e+04],\n",
       "       [1.00e+00, 3.60e+01, 9.90e+04],\n",
       "       [1.00e+00, 5.90e+01, 1.43e+05],\n",
       "       [1.00e+00, 3.90e+01, 7.70e+04],\n",
       "       [0.00e+00, 4.60e+01, 3.20e+04],\n",
       "       [1.00e+00, 3.70e+01, 5.30e+04],\n",
       "       [1.00e+00, 4.70e+01, 2.00e+04],\n",
       "       [1.00e+00, 5.30e+01, 7.20e+04],\n",
       "       [0.00e+00, 4.80e+01, 2.90e+04],\n",
       "       [0.00e+00, 3.70e+01, 1.46e+05],\n",
       "       [1.00e+00, 2.30e+01, 2.00e+04],\n",
       "       [0.00e+00, 5.00e+01, 3.60e+04],\n",
       "       [1.00e+00, 4.80e+01, 4.10e+04],\n",
       "       [0.00e+00, 5.30e+01, 8.20e+04],\n",
       "       [1.00e+00, 3.50e+01, 2.20e+04],\n",
       "       [0.00e+00, 2.40e+01, 3.20e+04],\n",
       "       [0.00e+00, 2.60e+01, 1.50e+04],\n",
       "       [0.00e+00, 3.40e+01, 2.50e+04],\n",
       "       [1.00e+00, 2.00e+01, 4.90e+04],\n",
       "       [0.00e+00, 2.60e+01, 3.50e+04],\n",
       "       [0.00e+00, 3.80e+01, 5.00e+04],\n",
       "       [1.00e+00, 3.40e+01, 1.12e+05],\n",
       "       [0.00e+00, 3.30e+01, 6.90e+04],\n",
       "       [1.00e+00, 3.50e+01, 3.90e+04],\n",
       "       [1.00e+00, 3.00e+01, 1.50e+04],\n",
       "       [0.00e+00, 4.70e+01, 1.13e+05],\n",
       "       [1.00e+00, 3.50e+01, 7.90e+04],\n",
       "       [1.00e+00, 3.20e+01, 1.00e+05],\n",
       "       [0.00e+00, 4.70e+01, 5.00e+04],\n",
       "       [1.00e+00, 4.20e+01, 7.30e+04],\n",
       "       [0.00e+00, 5.40e+01, 1.08e+05],\n",
       "       [0.00e+00, 2.40e+01, 8.90e+04],\n",
       "       [1.00e+00, 2.50e+01, 9.00e+04],\n",
       "       [1.00e+00, 3.70e+01, 5.50e+04],\n",
       "       [1.00e+00, 3.90e+01, 1.06e+05],\n",
       "       [0.00e+00, 3.20e+01, 1.50e+05],\n",
       "       [0.00e+00, 3.70e+01, 3.30e+04],\n",
       "       [0.00e+00, 2.30e+01, 6.60e+04],\n",
       "       [1.00e+00, 2.10e+01, 7.20e+04],\n",
       "       [0.00e+00, 4.70e+01, 3.00e+04],\n",
       "       [0.00e+00, 3.60e+01, 5.00e+04],\n",
       "       [1.00e+00, 3.00e+01, 8.00e+04],\n",
       "       [1.00e+00, 4.20e+01, 6.40e+04],\n",
       "       [1.00e+00, 2.50e+01, 3.30e+04],\n",
       "       [1.00e+00, 4.30e+01, 1.29e+05],\n",
       "       [0.00e+00, 2.60e+01, 1.70e+04],\n",
       "       [0.00e+00, 3.70e+01, 8.00e+04],\n",
       "       [0.00e+00, 3.50e+01, 7.70e+04],\n",
       "       [1.00e+00, 4.20e+01, 5.40e+04],\n",
       "       [1.00e+00, 3.70e+01, 7.90e+04],\n",
       "       [1.00e+00, 3.70e+01, 7.40e+04],\n",
       "       [0.00e+00, 4.80e+01, 3.00e+04],\n",
       "       [1.00e+00, 4.70e+01, 3.40e+04],\n",
       "       [0.00e+00, 2.70e+01, 9.60e+04],\n",
       "       [0.00e+00, 3.70e+01, 7.80e+04],\n",
       "       [1.00e+00, 3.70e+01, 7.00e+04],\n",
       "       [1.00e+00, 1.90e+01, 2.50e+04],\n",
       "       [0.00e+00, 1.80e+01, 4.40e+04],\n",
       "       [0.00e+00, 2.30e+01, 2.80e+04],\n",
       "       [1.00e+00, 4.90e+01, 2.80e+04],\n",
       "       [0.00e+00, 3.80e+01, 6.50e+04],\n",
       "       [0.00e+00, 3.60e+01, 6.30e+04],\n",
       "       [0.00e+00, 3.20e+01, 8.60e+04],\n",
       "       [1.00e+00, 4.90e+01, 8.90e+04],\n",
       "       [1.00e+00, 2.20e+01, 8.10e+04],\n",
       "       [1.00e+00, 2.40e+01, 1.90e+04],\n",
       "       [0.00e+00, 3.60e+01, 5.40e+04],\n",
       "       [0.00e+00, 3.00e+01, 6.20e+04],\n",
       "       [1.00e+00, 3.30e+01, 4.30e+04],\n",
       "       [0.00e+00, 4.20e+01, 5.30e+04],\n",
       "       [0.00e+00, 5.10e+01, 1.34e+05],\n",
       "       [0.00e+00, 2.20e+01, 5.50e+04],\n",
       "       [0.00e+00, 3.60e+01, 7.50e+04],\n",
       "       [0.00e+00, 4.20e+01, 7.00e+04],\n",
       "       [0.00e+00, 2.90e+01, 8.30e+04],\n",
       "       [1.00e+00, 3.00e+01, 1.35e+05],\n",
       "       [1.00e+00, 3.40e+01, 1.15e+05],\n",
       "       [1.00e+00, 2.40e+01, 8.40e+04],\n",
       "       [0.00e+00, 2.80e+01, 3.70e+04],\n",
       "       [0.00e+00, 3.30e+01, 1.49e+05],\n",
       "       [1.00e+00, 4.00e+01, 6.10e+04],\n",
       "       [0.00e+00, 3.80e+01, 5.00e+04],\n",
       "       [0.00e+00, 3.90e+01, 7.10e+04],\n",
       "       [1.00e+00, 3.50e+01, 7.30e+04],\n",
       "       [0.00e+00, 2.60e+01, 5.20e+04],\n",
       "       [0.00e+00, 3.70e+01, 9.30e+04],\n",
       "       [0.00e+00, 3.20e+01, 1.17e+05],\n",
       "       [0.00e+00, 4.00e+01, 1.42e+05],\n",
       "       [1.00e+00, 4.00e+01, 6.50e+04],\n",
       "       [0.00e+00, 3.90e+01, 7.30e+04],\n",
       "       [1.00e+00, 2.40e+01, 2.30e+04],\n",
       "       [1.00e+00, 4.90e+01, 8.60e+04],\n",
       "       [1.00e+00, 2.60e+01, 8.10e+04],\n",
       "       [1.00e+00, 6.00e+01, 8.30e+04],\n",
       "       [0.00e+00, 2.40e+01, 5.50e+04],\n",
       "       [0.00e+00, 5.00e+01, 2.00e+04],\n",
       "       [0.00e+00, 5.80e+01, 4.70e+04],\n",
       "       [1.00e+00, 4.00e+01, 5.70e+04],\n",
       "       [1.00e+00, 3.50e+01, 5.30e+04],\n",
       "       [1.00e+00, 2.60e+01, 3.20e+04],\n",
       "       [1.00e+00, 3.30e+01, 3.10e+04],\n",
       "       [0.00e+00, 2.70e+01, 3.10e+04],\n",
       "       [1.00e+00, 5.60e+01, 6.00e+04],\n",
       "       [1.00e+00, 3.90e+01, 9.60e+04],\n",
       "       [1.00e+00, 4.20e+01, 1.49e+05],\n",
       "       [0.00e+00, 4.50e+01, 2.20e+04],\n",
       "       [0.00e+00, 3.30e+01, 5.10e+04],\n",
       "       [0.00e+00, 3.90e+01, 6.10e+04],\n",
       "       [1.00e+00, 5.40e+01, 7.00e+04],\n",
       "       [0.00e+00, 3.10e+01, 3.40e+04],\n",
       "       [0.00e+00, 3.90e+01, 7.50e+04],\n",
       "       [1.00e+00, 5.10e+01, 2.30e+04],\n",
       "       [0.00e+00, 5.30e+01, 1.43e+05],\n",
       "       [1.00e+00, 4.60e+01, 8.80e+04]])"
      ]
     },
     "execution_count": 113,
     "metadata": {},
     "output_type": "execute_result"
    }
   ],
   "source": [
    "X_train"
   ]
  },
  {
   "cell_type": "code",
   "execution_count": 114,
   "id": "9be57d0d",
   "metadata": {},
   "outputs": [],
   "source": [
    "X_train=sc.fit_transform(X_train)"
   ]
  },
  {
   "cell_type": "code",
   "execution_count": 115,
   "id": "4333430e",
   "metadata": {},
   "outputs": [],
   "source": [
    "X_test=sc.fit_transform(X_test)"
   ]
  },
  {
   "cell_type": "code",
   "execution_count": 116,
   "id": "c8a2f34b",
   "metadata": {},
   "outputs": [
    {
     "data": {
      "text/html": [
       "<style>#sk-container-id-9 {color: black;background-color: white;}#sk-container-id-9 pre{padding: 0;}#sk-container-id-9 div.sk-toggleable {background-color: white;}#sk-container-id-9 label.sk-toggleable__label {cursor: pointer;display: block;width: 100%;margin-bottom: 0;padding: 0.3em;box-sizing: border-box;text-align: center;}#sk-container-id-9 label.sk-toggleable__label-arrow:before {content: \"▸\";float: left;margin-right: 0.25em;color: #696969;}#sk-container-id-9 label.sk-toggleable__label-arrow:hover:before {color: black;}#sk-container-id-9 div.sk-estimator:hover label.sk-toggleable__label-arrow:before {color: black;}#sk-container-id-9 div.sk-toggleable__content {max-height: 0;max-width: 0;overflow: hidden;text-align: left;background-color: #f0f8ff;}#sk-container-id-9 div.sk-toggleable__content pre {margin: 0.2em;color: black;border-radius: 0.25em;background-color: #f0f8ff;}#sk-container-id-9 input.sk-toggleable__control:checked~div.sk-toggleable__content {max-height: 200px;max-width: 100%;overflow: auto;}#sk-container-id-9 input.sk-toggleable__control:checked~label.sk-toggleable__label-arrow:before {content: \"▾\";}#sk-container-id-9 div.sk-estimator input.sk-toggleable__control:checked~label.sk-toggleable__label {background-color: #d4ebff;}#sk-container-id-9 div.sk-label input.sk-toggleable__control:checked~label.sk-toggleable__label {background-color: #d4ebff;}#sk-container-id-9 input.sk-hidden--visually {border: 0;clip: rect(1px 1px 1px 1px);clip: rect(1px, 1px, 1px, 1px);height: 1px;margin: -1px;overflow: hidden;padding: 0;position: absolute;width: 1px;}#sk-container-id-9 div.sk-estimator {font-family: monospace;background-color: #f0f8ff;border: 1px dotted black;border-radius: 0.25em;box-sizing: border-box;margin-bottom: 0.5em;}#sk-container-id-9 div.sk-estimator:hover {background-color: #d4ebff;}#sk-container-id-9 div.sk-parallel-item::after {content: \"\";width: 100%;border-bottom: 1px solid gray;flex-grow: 1;}#sk-container-id-9 div.sk-label:hover label.sk-toggleable__label {background-color: #d4ebff;}#sk-container-id-9 div.sk-serial::before {content: \"\";position: absolute;border-left: 1px solid gray;box-sizing: border-box;top: 0;bottom: 0;left: 50%;z-index: 0;}#sk-container-id-9 div.sk-serial {display: flex;flex-direction: column;align-items: center;background-color: white;padding-right: 0.2em;padding-left: 0.2em;position: relative;}#sk-container-id-9 div.sk-item {position: relative;z-index: 1;}#sk-container-id-9 div.sk-parallel {display: flex;align-items: stretch;justify-content: center;background-color: white;position: relative;}#sk-container-id-9 div.sk-item::before, #sk-container-id-9 div.sk-parallel-item::before {content: \"\";position: absolute;border-left: 1px solid gray;box-sizing: border-box;top: 0;bottom: 0;left: 50%;z-index: -1;}#sk-container-id-9 div.sk-parallel-item {display: flex;flex-direction: column;z-index: 1;position: relative;background-color: white;}#sk-container-id-9 div.sk-parallel-item:first-child::after {align-self: flex-end;width: 50%;}#sk-container-id-9 div.sk-parallel-item:last-child::after {align-self: flex-start;width: 50%;}#sk-container-id-9 div.sk-parallel-item:only-child::after {width: 0;}#sk-container-id-9 div.sk-dashed-wrapped {border: 1px dashed gray;margin: 0 0.4em 0.5em 0.4em;box-sizing: border-box;padding-bottom: 0.4em;background-color: white;}#sk-container-id-9 div.sk-label label {font-family: monospace;font-weight: bold;display: inline-block;line-height: 1.2em;}#sk-container-id-9 div.sk-label-container {text-align: center;}#sk-container-id-9 div.sk-container {/* jupyter's `normalize.less` sets `[hidden] { display: none; }` but bootstrap.min.css set `[hidden] { display: none !important; }` so we also need the `!important` here to be able to override the default hidden behavior on the sphinx rendered scikit-learn.org. See: https://github.com/scikit-learn/scikit-learn/issues/21755 */display: inline-block !important;position: relative;}#sk-container-id-9 div.sk-text-repr-fallback {display: none;}</style><div id=\"sk-container-id-9\" class=\"sk-top-container\"><div class=\"sk-text-repr-fallback\"><pre>SVC(kernel=&#x27;linear&#x27;, random_state=0)</pre><b>In a Jupyter environment, please rerun this cell to show the HTML representation or trust the notebook. <br />On GitHub, the HTML representation is unable to render, please try loading this page with nbviewer.org.</b></div><div class=\"sk-container\" hidden><div class=\"sk-item\"><div class=\"sk-estimator sk-toggleable\"><input class=\"sk-toggleable__control sk-hidden--visually\" id=\"sk-estimator-id-9\" type=\"checkbox\" checked><label for=\"sk-estimator-id-9\" class=\"sk-toggleable__label sk-toggleable__label-arrow\">SVC</label><div class=\"sk-toggleable__content\"><pre>SVC(kernel=&#x27;linear&#x27;, random_state=0)</pre></div></div></div></div></div>"
      ],
      "text/plain": [
       "SVC(kernel='linear', random_state=0)"
      ]
     },
     "execution_count": 116,
     "metadata": {},
     "output_type": "execute_result"
    }
   ],
   "source": [
    "from sklearn.svm import SVC\n",
    "sv=SVC(kernel='linear',random_state=0)\n",
    "sv.fit(X_train,y_train)"
   ]
  },
  {
   "cell_type": "code",
   "execution_count": 117,
   "id": "1ae7acaa",
   "metadata": {},
   "outputs": [],
   "source": [
    "y_pred=sv.predict(X_test)"
   ]
  },
  {
   "cell_type": "code",
   "execution_count": 118,
   "id": "d836c1d8",
   "metadata": {},
   "outputs": [
    {
     "name": "stdout",
     "output_type": "stream",
     "text": [
      "[[48  1]\n",
      " [ 9 22]]\n"
     ]
    },
    {
     "data": {
      "text/plain": [
       "0.875"
      ]
     },
     "execution_count": 118,
     "metadata": {},
     "output_type": "execute_result"
    }
   ],
   "source": [
    "from sklearn import metrics\n",
    "cm= metrics.confusion_matrix(y_test,y_pred)\n",
    "print(cm)\n",
    "sv.score(X_test,y_test)"
   ]
  },
  {
   "cell_type": "code",
   "execution_count": null,
   "id": "3e14b5ee",
   "metadata": {},
   "outputs": [],
   "source": []
  },
  {
   "cell_type": "code",
   "execution_count": null,
   "id": "85c478f2",
   "metadata": {},
   "outputs": [],
   "source": []
  }
 ],
 "metadata": {
  "kernelspec": {
   "display_name": "Python 3 (ipykernel)",
   "language": "python",
   "name": "python3"
  },
  "language_info": {
   "codemirror_mode": {
    "name": "ipython",
    "version": 3
   },
   "file_extension": ".py",
   "mimetype": "text/x-python",
   "name": "python",
   "nbconvert_exporter": "python",
   "pygments_lexer": "ipython3",
   "version": "3.10.9"
  }
 },
 "nbformat": 4,
 "nbformat_minor": 5
}
